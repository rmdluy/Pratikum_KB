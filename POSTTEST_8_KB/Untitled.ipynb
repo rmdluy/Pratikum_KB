{
 "cells": [
  {
   "cell_type": "markdown",
   "id": "3c077dd9-4865-4296-b950-fc476c4d72a9",
   "metadata": {},
   "source": [
    "IMPORT LIBRARY"
   ]
  },
  {
   "cell_type": "code",
   "execution_count": 187,
   "id": "c25ff7a9-eb6b-4d96-bcf7-a913e4f86dcc",
   "metadata": {},
   "outputs": [],
   "source": [
    "import numpy as np\n",
    "import tensorflow as tf\n",
    "from tensorflow import keras\n",
    "from tensorflow.keras import Sequential\n",
    "from tensorflow.keras.layers import Dense\n",
    "from tensorflow.keras import layers, optimizers, datasets\n",
    "import matplotlib.pyplot as plt"
   ]
  },
  {
   "cell_type": "markdown",
   "id": "52de38d4-ded9-4f3d-8bb7-3042cdd31074",
   "metadata": {},
   "source": [
    "# IMPORY DATASET DARI TENSORFLOW"
   ]
  },
  {
   "cell_type": "code",
   "execution_count": 228,
   "id": "c0fcf8d7-7c1a-43eb-bfe9-c7ce23c6048c",
   "metadata": {},
   "outputs": [
    {
     "data": {
      "text/plain": [
       "tfds.core.DatasetInfo(\n",
       "    name='kmnist',\n",
       "    full_name='kmnist/3.0.1',\n",
       "    description=\"\"\"\n",
       "    Kuzushiji-MNIST is a drop-in replacement for the MNIST dataset (28x28 grayscale, 70,000 images), provided in the original MNIST format as well as a NumPy format. Since MNIST restricts us to 10 classes, we chose one character to represent each of the 10 rows of Hiragana when creating Kuzushiji-MNIST.\n",
       "    \"\"\",\n",
       "    homepage='http://codh.rois.ac.jp/kmnist/index.html.en',\n",
       "    data_path='C:\\\\Users\\\\USER\\\\tensorflow_datasets\\\\kmnist\\\\3.0.1',\n",
       "    file_format=tfrecord,\n",
       "    download_size=20.26 MiB,\n",
       "    dataset_size=31.76 MiB,\n",
       "    features=FeaturesDict({\n",
       "        'image': Image(shape=(28, 28, 1), dtype=tf.uint8),\n",
       "        'label': ClassLabel(shape=(), dtype=tf.int64, num_classes=10),\n",
       "    }),\n",
       "    supervised_keys=('image', 'label'),\n",
       "    disable_shuffling=False,\n",
       "    splits={\n",
       "        'test': <SplitInfo num_examples=10000, num_shards=1>,\n",
       "        'train': <SplitInfo num_examples=60000, num_shards=1>,\n",
       "    },\n",
       "    citation=\"\"\"@online{clanuwat2018deep,\n",
       "      author       = {Tarin Clanuwat and Mikel Bober-Irizar and Asanobu Kitamoto and Alex Lamb and Kazuaki Yamamoto and David Ha},\n",
       "      title        = {Deep Learning for Classical Japanese Literature},\n",
       "      date         = {2018-12-03},\n",
       "      year         = {2018},\n",
       "      eprintclass  = {cs.CV},\n",
       "      eprinttype   = {arXiv},\n",
       "      eprint       = {cs.CV/1812.01718},\n",
       "    }\"\"\",\n",
       ")"
      ]
     },
     "execution_count": 228,
     "metadata": {},
     "output_type": "execute_result"
    }
   ],
   "source": [
    "(x_train_raw, y_train_raw),(x_test_raw, y_test_raw) = tfds.load(\n",
    "    \"kmnist\",\n",
    "    split=[\"train[:70%]\", \"train[:30%]\"],\n",
    "    batch_size=-1,\n",
    "    as_supervised=True\n",
    ")\n",
    "\n",
    "info"
   ]
  },
  {
   "cell_type": "markdown",
   "id": "91773de6-95a6-48f4-a8e3-39fc390a10cc",
   "metadata": {},
   "source": [
    "# JUMLAH CLASS"
   ]
  },
  {
   "cell_type": "code",
   "execution_count": 203,
   "id": "a0e4c562-d520-4f88-9827-4023c2a0f678",
   "metadata": {},
   "outputs": [
    {
     "name": "stdout",
     "output_type": "stream",
     "text": [
      "Class        :  ['o', 'ki', 'su', 'tsu', 'na', 'ha', 'ma', 'ya', 're', 'wo']\n",
      "Jumlah Class :  10\n"
     ]
    }
   ],
   "source": [
    "print(\"Class        : \",info.features['label'].names)\n",
    "print(\"Jumlah Class : \",info.features['label'].num_classes)"
   ]
  },
  {
   "cell_type": "markdown",
   "id": "92c5a43a-6b38-44f1-a666-1165fdc7b629",
   "metadata": {},
   "source": [
    "# ENCODING DENGAN ONE-HOT ENCODING"
   ]
  },
  {
   "cell_type": "code",
   "execution_count": 206,
   "id": "b7de47b9-a862-4813-b746-ddc90cc9652c",
   "metadata": {},
   "outputs": [
    {
     "name": "stdout",
     "output_type": "stream",
     "text": [
      "[0. 0. 0. 0. 0. 1. 0. 0. 0. 0.]\n"
     ]
    }
   ],
   "source": [
    "num_class = 10\n",
    "y_train = tf.keras.utils.to_categorical(y_train_raw, num_class)\n",
    "y_test  = tf.keras.utils.to_categorical(y_test_raw, num_class)\n",
    "print(y_train[0])"
   ]
  },
  {
   "cell_type": "markdown",
   "id": "7abd4cd8-70da-497d-96f4-2b757e5d0df0",
   "metadata": {},
   "source": [
    "# DATA-DATA GAMBAR"
   ]
  },
  {
   "cell_type": "code",
   "execution_count": 207,
   "id": "ca5cde7e-be14-47df-9b8e-dedd3dc69bd7",
   "metadata": {},
   "outputs": [
    {
     "data": {
      "image/png": "[encoded data removed]",
      "text/plain": [
       "<Figure size 640x480 with 12 Axes>"
      ]
     },
     "metadata": {},
     "output_type": "display_data"
    }
   ],
   "source": [
    "i = 0\n",
    "for image, label in dataset[\"train\"].take(12):\n",
    "    plt.subplot(3, 4, i+1)\n",
    "    plt.imshow(image)\n",
    "    plt.title(info.features[\"label\"].names[label])\n",
    "    plt.axis(\"off\")\n",
    "    i += 1\n",
    "\n",
    "plt.show()"
   ]
  },
  {
   "cell_type": "code",
   "execution_count": 209,
   "id": "f8dcd12a-64df-44a8-bdd8-4882cf49a063",
   "metadata": {},
   "outputs": [],
   "source": [
    "#Convert a 28 x 28 image into a 784 x 1 vector.\n",
    "x_train = x_train_raw.reshape(60000, 784)\n",
    "x_test = x_test_raw.reshape(10000, 784)\n",
    "#Normalize image pixel values.\n",
    "x_train = x_train.astype('float32')/255\n",
    "x_test = x_test.astype('float32')/255"
   ]
  },
  {
   "cell_type": "markdown",
   "id": "3f8e7ec7-1fa3-436f-ab52-9ba783eeaa4e",
   "metadata": {},
   "source": [
    "# SEQUENTIAL MODEL"
   ]
  },
  {
   "cell_type": "code",
   "execution_count": 211,
   "id": "df955310-f5c5-4516-89c4-1694eab643bb",
   "metadata": {},
   "outputs": [
    {
     "name": "stdout",
     "output_type": "stream",
     "text": [
      "Model: \"sequential_19\"\n",
      "_________________________________________________________________\n",
      " Layer (type)                Output Shape              Param #   \n",
      "=================================================================\n",
      " dense_94 (Dense)            (None, 512)               401920    \n",
      "                                                                 \n",
      " dense_95 (Dense)            (None, 256)               131328    \n",
      "                                                                 \n",
      " dense_96 (Dense)            (None, 124)               31868     \n",
      "                                                                 \n",
      " dense_97 (Dense)            (None, 10)                1250      \n",
      "                                                                 \n",
      "=================================================================\n",
      "Total params: 566,366\n",
      "Trainable params: 566,366\n",
      "Non-trainable params: 0\n",
      "_________________________________________________________________\n"
     ]
    }
   ],
   "source": [
    "model = keras.Sequential([\n",
    "layers.Dense(512, activation='relu', input_dim = 784),\n",
    "layers.Dense(256, activation='relu'),\n",
    "layers.Dense(124, activation='relu'),\n",
    "layers.Dense(10, activation='softmax')])\n",
    "model.summary()"
   ]
  },
  {
   "cell_type": "markdown",
   "id": "ab5cd6b9-a57a-4006-bf48-266921af2ddc",
   "metadata": {},
   "source": [
    "# OPTIMALISASI MODEL DENGAN CARA DI COMPILE"
   ]
  },
  {
   "cell_type": "code",
   "execution_count": 212,
   "id": "b7bcde81-ef28-4cef-ad71-c37798113cfc",
   "metadata": {},
   "outputs": [],
   "source": [
    "Optimizer = optimizers.Adam(0.001)\n",
    "model.compile(loss=keras.losses.categorical_crossentropy, optimizer=Optimizer,\n",
    "metrics=['accuracy'])"
   ]
  },
  {
   "cell_type": "markdown",
   "id": "8902af49-f133-4487-98b5-a9cd4f448e74",
   "metadata": {},
   "source": [
    "# FITTING TRANING MODEL"
   ]
  },
  {
   "cell_type": "code",
   "execution_count": 213,
   "id": "26230c3e-bf7f-4d2c-aff4-7cf16f74802a",
   "metadata": {},
   "outputs": [
    {
     "name": "stdout",
     "output_type": "stream",
     "text": [
      "Epoch 1/10\n",
      "469/469 [==============================] - 3s 6ms/step - loss: 0.2275 - accuracy: 0.9327\n",
      "Epoch 2/10\n",
      "469/469 [==============================] - 3s 6ms/step - loss: 0.0838 - accuracy: 0.9740\n",
      "Epoch 3/10\n",
      "469/469 [==============================] - 3s 6ms/step - loss: 0.0557 - accuracy: 0.9824\n",
      "Epoch 4/10\n",
      "469/469 [==============================] - 3s 6ms/step - loss: 0.0400 - accuracy: 0.9876\n",
      "Epoch 5/10\n",
      "469/469 [==============================] - 3s 6ms/step - loss: 0.0300 - accuracy: 0.9906\n",
      "Epoch 6/10\n",
      "469/469 [==============================] - 3s 7ms/step - loss: 0.0251 - accuracy: 0.9917\n",
      "Epoch 7/10\n",
      "469/469 [==============================] - 3s 6ms/step - loss: 0.0218 - accuracy: 0.9929\n",
      "Epoch 8/10\n",
      "469/469 [==============================] - 3s 6ms/step - loss: 0.0195 - accuracy: 0.9937\n",
      "Epoch 9/10\n",
      "469/469 [==============================] - 3s 5ms/step - loss: 0.0168 - accuracy: 0.9941\n",
      "Epoch 10/10\n",
      "469/469 [==============================] - 3s 6ms/step - loss: 0.0175 - accuracy: 0.9941\n"
     ]
    },
    {
     "data": {
      "text/plain": [
       "<keras.callbacks.History at 0x1e348b9abc0>"
      ]
     },
     "execution_count": 213,
     "metadata": {},
     "output_type": "execute_result"
    }
   ],
   "source": [
    "model.fit(x_train, y_train,\n",
    "batch_size=128,\n",
    "epochs=10,\n",
    "verbose=1)"
   ]
  },
  {
   "cell_type": "markdown",
   "id": "dd20c2cc-4cae-4fab-a609-abf88a7910fd",
   "metadata": {},
   "source": [
    "# Evaluasi Model"
   ]
  },
  {
   "cell_type": "code",
   "execution_count": 224,
   "id": "dfb38ae3-ae03-4e5f-86d9-dfd702ef387f",
   "metadata": {},
   "outputs": [
    {
     "name": "stdout",
     "output_type": "stream",
     "text": [
      "313/313 [==============================] - 1s 3ms/step - loss: 0.0686 - accuracy: 0.9824\n",
      "TEST LOSS\t: 0.06858474761247635    \n",
      "TEST ACCURACY\t: 98.24000000953674%\n"
     ]
    }
   ],
   "source": [
    "score = model.evaluate(x_test, y_test, verbose=1)\n",
    "\n",
    "print(f\"TEST LOSS\\t: {score[0]}\\\n",
    "    \\nTEST ACCURACY\\t: {score[1]*100}%\")"
   ]
  },
  {
   "cell_type": "code",
   "execution_count": 225,
   "id": "5a03a5d9-699f-437c-8764-290fc6276456",
   "metadata": {},
   "outputs": [
    {
     "name": "stdout",
     "output_type": "stream",
     "text": [
      "1875/1875 [==============================] - 5s 3ms/step - loss: 0.0101 - accuracy: 0.9970\n",
      "TRAINING LOSS\t\t: 0.010094488970935345    \n",
      "TRAINING ACCURACY\t: 99.69833493232727%\n"
     ]
    }
   ],
   "source": [
    "score = model.evaluate(x_train, y_train, verbose=1)\n",
    "\n",
    "print(f\"TRAINING LOSS\\t\\t: {score[0]}\\\n",
    "    \\nTRAINING ACCURACY\\t: {score[1]*100}%\")"
   ]
  },
  {
   "cell_type": "markdown",
   "id": "077291f4-fd92-4438-8f06-e71f9b3b9fef",
   "metadata": {},
   "source": [
    "# SAVING"
   ]
  },
  {
   "cell_type": "code",
   "execution_count": 229,
   "id": "344c408c-8bcd-40b4-ab4d-1f947748d508",
   "metadata": {},
   "outputs": [],
   "source": [
    "model.save(\"model.h5\")"
   ]
  }
 ],
 "metadata": {
  "kernelspec": {
   "display_name": "Python 3 (ipykernel)",
   "language": "python",
   "name": "python3"
  },
  "language_info": {
   "codemirror_mode": {
    "name": "ipython",
    "version": 3
   },
   "file_extension": ".py",
   "mimetype": "text/x-python",
   "name": "python",
   "nbconvert_exporter": "python",
   "pygments_lexer": "ipython3",
   "version": "3.10.7"
  }
 },
 "nbformat": 4,
 "nbformat_minor": 5
}
