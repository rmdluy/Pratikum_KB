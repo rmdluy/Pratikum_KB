{
 "cells": [
  {
   "cell_type": "markdown",
   "id": "fad0e72e-025a-4d8a-8d51-01ebc11a967f",
   "metadata": {},
   "source": [
    "# Import Library Tensorflow"
   ]
  },
  {
   "cell_type": "code",
   "execution_count": 308,
   "id": "b031809d-dfa9-4bf9-9e59-3b86c59f7e5a",
   "metadata": {},
   "outputs": [],
   "source": [
    "import tensorflow as tf"
   ]
  },
  {
   "cell_type": "markdown",
   "id": "68539f84-039a-4acc-942d-d7a1a64b6924",
   "metadata": {},
   "source": [
    "# Tensor dengan Shape(5,5) dengan nilai Random yang disimpan dalam Variable Random_Tensor."
   ]
  },
  {
   "cell_type": "code",
   "execution_count": 309,
   "id": "5f5016b9-d3e5-4edd-b782-3795378894bc",
   "metadata": {},
   "outputs": [
    {
     "data": {
      "text/plain": [
       "array([[-0.56042594, -0.27749428,  0.51255924,  0.8010185 ,  0.51520437],\n",
       "       [ 1.468342  , -0.7303449 ,  0.6806971 , -0.25614354,  0.22638038],\n",
       "       [-0.41275328,  0.40714636,  1.1710836 ,  0.5506645 , -0.5771368 ],\n",
       "       [ 0.9128637 , -0.11637128,  1.6163776 ,  1.7190369 , -0.43684012],\n",
       "       [ 0.16972308,  1.0975889 ,  1.0428737 ,  1.2510941 , -0.04125828]],\n",
       "      dtype=float32)"
      ]
     },
     "execution_count": 309,
     "metadata": {},
     "output_type": "execute_result"
    }
   ],
   "source": [
    "random_tensor = tf.random.normal([5,5])\n",
    "random_tensor.numpy()"
   ]
  },
  {
   "cell_type": "markdown",
   "id": "5bc403ad-fa77-490f-9ca3-90a1d1075335",
   "metadata": {},
   "source": [
    "# Tensor dengan Shape(5,5) dari sebuah list dengan nilai Bilangan Prima dalam Variable Prime_Tensor."
   ]
  },
  {
   "cell_type": "code",
   "execution_count": 310,
   "id": "88b013c3-8b6d-4fe5-aa4d-9150e87e1abf",
   "metadata": {},
   "outputs": [],
   "source": [
    "prime_tensor = tf.convert_to_tensor(\n",
    "    [[1,3,5,7,11], \n",
    "    [13, 17, 19, 23, 29], \n",
    "    [31, 37, 41, 43, 47], \n",
    "    [53, 59, 61, 67, 71], \n",
    "    [73, 79, 83, 89, 97]], dtype=tf.float32)"
   ]
  },
  {
   "cell_type": "code",
   "execution_count": 311,
   "id": "46588362-b97f-4783-80e5-84e23dcf5683",
   "metadata": {},
   "outputs": [
    {
     "name": "stdout",
     "output_type": "stream",
     "text": [
      "tf.Tensor(\n",
      "[[ 1.  3.  5.  7. 11.]\n",
      " [13. 17. 19. 23. 29.]\n",
      " [31. 37. 41. 43. 47.]\n",
      " [53. 59. 61. 67. 71.]\n",
      " [73. 79. 83. 89. 97.]], shape=(5, 5), dtype=float32)\n"
     ]
    }
   ],
   "source": [
    "print(prime_tensor)"
   ]
  },
  {
   "cell_type": "markdown",
   "id": "016f3e69-be03-425e-937a-5e7fd3003d66",
   "metadata": {},
   "source": [
    "# Tampilkan Dimensi dari Kedua Variabel"
   ]
  },
  {
   "cell_type": "code",
   "execution_count": 312,
   "id": "ae026d63-b843-4852-bf63-aeed2ee61175",
   "metadata": {},
   "outputs": [
    {
     "name": "stdout",
     "output_type": "stream",
     "text": [
      "Dimensi dari\n",
      "random_tensor : (5, 5)\n",
      "prime_tensor  : (5, 5)\n"
     ]
    }
   ],
   "source": [
    "print(\"Dimensi dari\")\n",
    "print(\"random_tensor :\",random_tensor.shape)\n",
    "print(\"prime_tensor  :\",prime_tensor.shape)"
   ]
  },
  {
   "cell_type": "markdown",
   "id": "a78b471b-31f3-44c9-9467-41dcae60fa86",
   "metadata": {},
   "source": [
    "# Hasil Perhitungan Aritmatika 2 Variabel, Gunakan Minimal 5 Operator"
   ]
  },
  {
   "cell_type": "markdown",
   "id": "2162f1a5-79c6-4184-a302-e43487fd96c8",
   "metadata": {},
   "source": [
    "## Penjumlahan"
   ]
  },
  {
   "cell_type": "code",
   "execution_count": 313,
   "id": "845791e1-a5e7-4241-97dd-27a38c4f7ede",
   "metadata": {},
   "outputs": [
    {
     "data": {
      "text/plain": [
       "<tf.Tensor: shape=(5, 5), dtype=float32, numpy=\n",
       "array([[ 0.43957406,  2.7225058 ,  5.5125594 ,  7.8010187 , 11.515204  ],\n",
       "       [14.468342  , 16.269655  , 19.680696  , 22.743856  , 29.226381  ],\n",
       "       [30.587246  , 37.407146  , 42.171085  , 43.550663  , 46.422863  ],\n",
       "       [53.912865  , 58.88363   , 62.61638   , 68.71904   , 70.563156  ],\n",
       "       [73.16972   , 80.09759   , 84.04288   , 90.25109   , 96.95874   ]],\n",
       "      dtype=float32)>"
      ]
     },
     "execution_count": 313,
     "metadata": {},
     "output_type": "execute_result"
    }
   ],
   "source": [
    "x = random_tensor\n",
    "y = prime_tensor\n",
    "tf.add(x,y)"
   ]
  },
  {
   "cell_type": "markdown",
   "id": "e54319a1-e7ff-482d-876e-f1063c80f31b",
   "metadata": {},
   "source": [
    "## Pengurangan"
   ]
  },
  {
   "cell_type": "code",
   "execution_count": 314,
   "id": "a04426be-3d5c-4ca9-ab3d-efeb3e59fb6a",
   "metadata": {},
   "outputs": [
    {
     "data": {
      "text/plain": [
       "<tf.Tensor: shape=(5, 5), dtype=float32, numpy=\n",
       "array([[ -1.560426 ,  -3.2774942,  -4.4874406,  -6.1989813, -10.484796 ],\n",
       "       [-11.531658 , -17.730345 , -18.319304 , -23.256144 , -28.773619 ],\n",
       "       [-31.412754 , -36.592854 , -39.828915 , -42.449337 , -47.577137 ],\n",
       "       [-52.087135 , -59.11637  , -59.38362  , -65.28096  , -71.436844 ],\n",
       "       [-72.83028  , -77.90241  , -81.95712  , -87.74891  , -97.04126  ]],\n",
       "      dtype=float32)>"
      ]
     },
     "execution_count": 314,
     "metadata": {},
     "output_type": "execute_result"
    }
   ],
   "source": [
    "tf.subtract(x,y)"
   ]
  },
  {
   "cell_type": "markdown",
   "id": "1edea5f0-34c6-49b1-9838-6f00f70d8915",
   "metadata": {},
   "source": [
    "## Perkalian"
   ]
  },
  {
   "cell_type": "code",
   "execution_count": 315,
   "id": "38519bc8-cbf2-4523-8421-aa6bde428f19",
   "metadata": {},
   "outputs": [
    {
     "data": {
      "text/plain": [
       "<tf.Tensor: shape=(5, 5), dtype=float32, numpy=\n",
       "array([[ -0.56042594,  -0.8324828 ,   2.562796  ,   5.607129  ,\n",
       "          5.6672482 ],\n",
       "       [ 19.088446  , -12.415863  ,  12.933245  ,  -5.8913016 ,\n",
       "          6.565031  ],\n",
       "       [-12.795352  ,  15.064416  ,  48.014427  ,  23.678574  ,\n",
       "        -27.125431  ],\n",
       "       [ 48.381775  ,  -6.865906  ,  98.59903   , 115.175476  ,\n",
       "        -31.015648  ],\n",
       "       [ 12.389785  ,  86.709526  ,  86.55852   , 111.347374  ,\n",
       "         -4.0020533 ]], dtype=float32)>"
      ]
     },
     "execution_count": 315,
     "metadata": {},
     "output_type": "execute_result"
    }
   ],
   "source": [
    "tf.multiply(x,y)"
   ]
  },
  {
   "cell_type": "markdown",
   "id": "31436461-a484-4085-8579-44d13b980fa9",
   "metadata": {},
   "source": [
    "## Pembagian"
   ]
  },
  {
   "cell_type": "code",
   "execution_count": 316,
   "id": "fb3746bf-6cb1-4a27-bb70-a3ad117dc5a2",
   "metadata": {},
   "outputs": [
    {
     "data": {
      "text/plain": [
       "<tf.Tensor: shape=(5, 5), dtype=float32, numpy=\n",
       "array([[-5.60425937e-01, -9.24980938e-02,  1.02511846e-01,\n",
       "         1.14431210e-01,  4.68367599e-02],\n",
       "       [ 1.12949379e-01, -4.29614633e-02,  3.58261615e-02,\n",
       "        -1.11366753e-02,  7.80622009e-03],\n",
       "       [-1.33146225e-02,  1.10039562e-02,  2.85630133e-02,\n",
       "         1.28061511e-02, -1.22795068e-02],\n",
       "       [ 1.72238424e-02, -1.97239453e-03,  2.64979936e-02,\n",
       "         2.56572682e-02, -6.15267782e-03],\n",
       "       [ 2.32497370e-03,  1.38935307e-02,  1.25647439e-02,\n",
       "         1.40572367e-02, -4.25343111e-04]], dtype=float32)>"
      ]
     },
     "execution_count": 316,
     "metadata": {},
     "output_type": "execute_result"
    }
   ],
   "source": [
    "tf.divide(x,y)"
   ]
  },
  {
   "cell_type": "markdown",
   "id": "56901ccd-c4bf-42fa-b684-abde61794af4",
   "metadata": {},
   "source": [
    "## Pangkat"
   ]
  },
  {
   "cell_type": "code",
   "execution_count": 317,
   "id": "fd222a64-f1dd-415a-a25b-9c70d1f67fce",
   "metadata": {},
   "outputs": [
    {
     "data": {
      "text/plain": [
       "<tf.Tensor: shape=(5, 5), dtype=float32, numpy=\n",
       "array([[-5.6042594e-01, -2.1367913e-02,  3.5376944e-02,  2.1159126e-01,\n",
       "         6.7885173e-04],\n",
       "       [ 1.4748697e+02, -4.7860355e-03,  6.7007577e-04, -2.4838099e-14,\n",
       "         1.9513027e-19],\n",
       "       [-1.2201315e-12,  3.6372302e-15,  6.4878888e+02,  7.2134642e-12,\n",
       "        -6.0270192e-12],\n",
       "       [ 7.9710213e-03, -0.0000000e+00,  5.2615305e+12,  5.8091016e+15,\n",
       "        -2.9033443e-26],\n",
       "       [ 0.0000000e+00,  1.5658015e+03,  3.2601212e+01,  4.5583530e+08,\n",
       "        -0.0000000e+00]], dtype=float32)>"
      ]
     },
     "execution_count": 317,
     "metadata": {},
     "output_type": "execute_result"
    }
   ],
   "source": [
    "tf.pow(x,y)"
   ]
  },
  {
   "cell_type": "markdown",
   "id": "386cfb86-7912-48c7-90ed-01e548c82724",
   "metadata": {},
   "source": [
    "# Nilai Maksimum dan Minimum dari Variabel Random-Tensor"
   ]
  },
  {
   "cell_type": "code",
   "execution_count": 318,
   "id": "da70ae59-6ede-4bdd-888c-948b5f31cc6f",
   "metadata": {},
   "outputs": [
    {
     "name": "stdout",
     "output_type": "stream",
     "text": [
      "Nilai Maksimal Variabel random_tensor :  tf.Tensor([1 4 3 3 0], shape=(5,), dtype=int64)\n",
      "Nilai Minimal Variabel random_tensor  :  tf.Tensor([0 1 0 1 2], shape=(5,), dtype=int64)\n"
     ]
    }
   ],
   "source": [
    "print(\"Nilai Maksimal Variabel random_tensor : \", tf.argmax(random_tensor))\n",
    "print(\"Nilai Minimal Variabel random_tensor  : \", tf.argmin(random_tensor))"
   ]
  },
  {
   "cell_type": "markdown",
   "id": "caed95d5-1bb5-4ede-bb36-a147f597fd55",
   "metadata": {},
   "source": [
    "# Penggabungan Variable Random_Tensor dengan Prime_Tensor (concatenation)"
   ]
  },
  {
   "cell_type": "code",
   "execution_count": 319,
   "id": "98c2153f-ed06-4304-a044-102213a90283",
   "metadata": {},
   "outputs": [
    {
     "name": "stdout",
     "output_type": "stream",
     "text": [
      "Penggabungan kolom\n"
     ]
    },
    {
     "data": {
      "text/plain": [
       "<tf.Tensor: shape=(10, 5), dtype=float32, numpy=\n",
       "array([[-5.6042594e-01, -2.7749428e-01,  5.1255924e-01,  8.0101848e-01,\n",
       "         5.1520437e-01],\n",
       "       [ 1.4683419e+00, -7.3034489e-01,  6.8069708e-01, -2.5614354e-01,\n",
       "         2.2638038e-01],\n",
       "       [-4.1275328e-01,  4.0714636e-01,  1.1710836e+00,  5.5066448e-01,\n",
       "        -5.7713681e-01],\n",
       "       [ 9.1286367e-01, -1.1637128e-01,  1.6163776e+00,  1.7190369e+00,\n",
       "        -4.3684012e-01],\n",
       "       [ 1.6972308e-01,  1.0975889e+00,  1.0428737e+00,  1.2510941e+00,\n",
       "        -4.1258283e-02],\n",
       "       [ 1.0000000e+00,  3.0000000e+00,  5.0000000e+00,  7.0000000e+00,\n",
       "         1.1000000e+01],\n",
       "       [ 1.3000000e+01,  1.7000000e+01,  1.9000000e+01,  2.3000000e+01,\n",
       "         2.9000000e+01],\n",
       "       [ 3.1000000e+01,  3.7000000e+01,  4.1000000e+01,  4.3000000e+01,\n",
       "         4.7000000e+01],\n",
       "       [ 5.3000000e+01,  5.9000000e+01,  6.1000000e+01,  6.7000000e+01,\n",
       "         7.1000000e+01],\n",
       "       [ 7.3000000e+01,  7.9000000e+01,  8.3000000e+01,  8.9000000e+01,\n",
       "         9.7000000e+01]], dtype=float32)>"
      ]
     },
     "execution_count": 319,
     "metadata": {},
     "output_type": "execute_result"
    }
   ],
   "source": [
    "print(\"Penggabungan kolom\")\n",
    "concat = tf.concat([random_tensor,prime_tensor], axis=0)\n",
    "concat"
   ]
  },
  {
   "cell_type": "code",
   "execution_count": 320,
   "id": "ee563832-ca3b-44fe-8934-7e56b6f3d51b",
   "metadata": {},
   "outputs": [
    {
     "name": "stdout",
     "output_type": "stream",
     "text": [
      "Penggabungan baris\n"
     ]
    },
    {
     "data": {
      "text/plain": [
       "<tf.Tensor: shape=(5, 10), dtype=float32, numpy=\n",
       "array([[-5.6042594e-01, -2.7749428e-01,  5.1255924e-01,  8.0101848e-01,\n",
       "         5.1520437e-01,  1.0000000e+00,  3.0000000e+00,  5.0000000e+00,\n",
       "         7.0000000e+00,  1.1000000e+01],\n",
       "       [ 1.4683419e+00, -7.3034489e-01,  6.8069708e-01, -2.5614354e-01,\n",
       "         2.2638038e-01,  1.3000000e+01,  1.7000000e+01,  1.9000000e+01,\n",
       "         2.3000000e+01,  2.9000000e+01],\n",
       "       [-4.1275328e-01,  4.0714636e-01,  1.1710836e+00,  5.5066448e-01,\n",
       "        -5.7713681e-01,  3.1000000e+01,  3.7000000e+01,  4.1000000e+01,\n",
       "         4.3000000e+01,  4.7000000e+01],\n",
       "       [ 9.1286367e-01, -1.1637128e-01,  1.6163776e+00,  1.7190369e+00,\n",
       "        -4.3684012e-01,  5.3000000e+01,  5.9000000e+01,  6.1000000e+01,\n",
       "         6.7000000e+01,  7.1000000e+01],\n",
       "       [ 1.6972308e-01,  1.0975889e+00,  1.0428737e+00,  1.2510941e+00,\n",
       "        -4.1258283e-02,  7.3000000e+01,  7.9000000e+01,  8.3000000e+01,\n",
       "         8.9000000e+01,  9.7000000e+01]], dtype=float32)>"
      ]
     },
     "execution_count": 320,
     "metadata": {},
     "output_type": "execute_result"
    }
   ],
   "source": [
    "print(\"Penggabungan baris\")\n",
    "concat = tf.concat([random_tensor,prime_tensor], axis=1)\n",
    "concat"
   ]
  },
  {
   "cell_type": "markdown",
   "id": "28c7f1fc-3f38-4f20-8e7a-547f8c0945d0",
   "metadata": {},
   "source": [
    "# Hasil Sorting dari Kedua Variabel diatas (Descending)"
   ]
  },
  {
   "cell_type": "code",
   "execution_count": 321,
   "id": "a097c961-b95b-42eb-a82f-e61d9f00f301",
   "metadata": {},
   "outputs": [
    {
     "name": "stdout",
     "output_type": "stream",
     "text": [
      "Sorting random_tensor Descending\n",
      "tf.Tensor(\n",
      "[[ 0.8010185   0.51520437  0.51255924 -0.27749428 -0.56042594]\n",
      " [ 1.468342    0.6806971   0.22638038 -0.25614354 -0.7303449 ]\n",
      " [ 1.1710836   0.5506645   0.40714636 -0.41275328 -0.5771368 ]\n",
      " [ 1.7190369   1.6163776   0.9128637  -0.11637128 -0.43684012]\n",
      " [ 1.2510941   1.0975889   1.0428737   0.16972308 -0.04125828]], shape=(5, 5), dtype=float32)\n"
     ]
    }
   ],
   "source": [
    "print(\"Sorting random_tensor Descending\")\n",
    "print(tf.sort(random_tensor,direction=\"DESCENDING\"))"
   ]
  },
  {
   "cell_type": "code",
   "execution_count": 322,
   "id": "604f28d1-be3b-4a37-9ac3-e34ee8bd4f04",
   "metadata": {},
   "outputs": [
    {
     "name": "stdout",
     "output_type": "stream",
     "text": [
      "Sorting prime_tensor Descending\n",
      "tf.Tensor(\n",
      "[[11.  7.  5.  3.  1.]\n",
      " [29. 23. 19. 17. 13.]\n",
      " [47. 43. 41. 37. 31.]\n",
      " [71. 67. 61. 59. 53.]\n",
      " [97. 89. 83. 79. 73.]], shape=(5, 5), dtype=float32)\n"
     ]
    }
   ],
   "source": [
    "print(\"Sorting prime_tensor Descending\")\n",
    "print(tf.sort(prime_tensor,direction=\"DESCENDING\"))"
   ]
  }
 ],
 "metadata": {
  "kernelspec": {
   "display_name": "Python 3 (ipykernel)",
   "language": "python",
   "name": "python3"
  },
  "language_info": {
   "codemirror_mode": {
    "name": "ipython",
    "version": 3
   },
   "file_extension": ".py",
   "mimetype": "text/x-python",
   "name": "python",
   "nbconvert_exporter": "python",
   "pygments_lexer": "ipython3",
   "version": "3.10.7"
  }
 },
 "nbformat": 4,
 "nbformat_minor": 5
}
