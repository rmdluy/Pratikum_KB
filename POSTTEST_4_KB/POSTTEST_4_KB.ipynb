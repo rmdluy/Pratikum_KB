{
 "cells": [
  {
   "cell_type": "code",
   "execution_count": 46,
   "id": "64b06c1d-c962-42a5-8553-8b8174d60c22",
   "metadata": {},
   "outputs": [],
   "source": [
    "import pandas as pd\n",
    "import numpy as np\n",
    "from sklearn.model_selection import train_test_split"
   ]
  },
  {
   "cell_type": "markdown",
   "id": "efa3e2d6-8ac5-43e3-95d8-cfcc628bbdd5",
   "metadata": {},
   "source": [
    "# MENAMPILKAN DATA"
   ]
  },
  {
   "cell_type": "code",
   "execution_count": 80,
   "id": "10d2bdb1-d2a7-4c15-b6f7-a3a2b7217e56",
   "metadata": {},
   "outputs": [
    {
     "data": {
      "text/html": [
       "<div>\n",
       "<style scoped>\n",
       "    .dataframe tbody tr th:only-of-type {\n",
       "        vertical-align: middle;\n",
       "    }\n",
       "\n",
       "    .dataframe tbody tr th {\n",
       "        vertical-align: top;\n",
       "    }\n",
       "\n",
       "    .dataframe thead th {\n",
       "        text-align: right;\n",
       "    }\n",
       "</style>\n",
       "<table border=\"1\" class=\"dataframe\">\n",
       "  <thead>\n",
       "    <tr style=\"text-align: right;\">\n",
       "      <th></th>\n",
       "      <th>Unnamed: 0</th>\n",
       "      <th>Name</th>\n",
       "      <th>Position</th>\n",
       "      <th>Age</th>\n",
       "      <th>Markey Value In Millions(£)</th>\n",
       "      <th>Country</th>\n",
       "      <th>Club</th>\n",
       "      <th>Matches</th>\n",
       "      <th>Goals</th>\n",
       "      <th>Own Goals</th>\n",
       "      <th>Assists</th>\n",
       "      <th>Yellow Cards</th>\n",
       "      <th>Second Yellow Cards</th>\n",
       "      <th>Red Cards</th>\n",
       "      <th>Number Of Substitute In</th>\n",
       "      <th>Number Of Substitute Out</th>\n",
       "    </tr>\n",
       "  </thead>\n",
       "  <tbody>\n",
       "    <tr>\n",
       "      <th>0</th>\n",
       "      <td>0</td>\n",
       "      <td>Kylian Mbappé</td>\n",
       "      <td>Centre-Forward</td>\n",
       "      <td>22.0</td>\n",
       "      <td>144.0</td>\n",
       "      <td>France</td>\n",
       "      <td>Paris Saint-Germain</td>\n",
       "      <td>16.0</td>\n",
       "      <td>7.0</td>\n",
       "      <td>0.0</td>\n",
       "      <td>NaN</td>\n",
       "      <td>3.0</td>\n",
       "      <td>0.0</td>\n",
       "      <td>0.0</td>\n",
       "      <td>0.0</td>\n",
       "      <td>8.0</td>\n",
       "    </tr>\n",
       "    <tr>\n",
       "      <th>1</th>\n",
       "      <td>1</td>\n",
       "      <td>Erling Haaland</td>\n",
       "      <td>Centre-Forward</td>\n",
       "      <td>21.0</td>\n",
       "      <td>135.0</td>\n",
       "      <td>Norway</td>\n",
       "      <td>Borussia Dortmund</td>\n",
       "      <td>10.0</td>\n",
       "      <td>13.0</td>\n",
       "      <td>0.0</td>\n",
       "      <td>NaN</td>\n",
       "      <td>1.0</td>\n",
       "      <td>0.0</td>\n",
       "      <td>0.0</td>\n",
       "      <td>0.0</td>\n",
       "      <td>1.0</td>\n",
       "    </tr>\n",
       "    <tr>\n",
       "      <th>2</th>\n",
       "      <td>2</td>\n",
       "      <td>Harry Kane</td>\n",
       "      <td>Centre-Forward</td>\n",
       "      <td>28.0</td>\n",
       "      <td>108.0</td>\n",
       "      <td>England</td>\n",
       "      <td>Tottenham Hotspur</td>\n",
       "      <td>16.0</td>\n",
       "      <td>7.0</td>\n",
       "      <td>0.0</td>\n",
       "      <td>2.0</td>\n",
       "      <td>2.0</td>\n",
       "      <td>0.0</td>\n",
       "      <td>0.0</td>\n",
       "      <td>2.0</td>\n",
       "      <td>2.0</td>\n",
       "    </tr>\n",
       "  </tbody>\n",
       "</table>\n",
       "</div>"
      ],
      "text/plain": [
       "  Unnamed: 0            Name        Position   Age  \\\n",
       "0          0   Kylian Mbappé  Centre-Forward  22.0   \n",
       "1          1  Erling Haaland  Centre-Forward  21.0   \n",
       "2          2      Harry Kane  Centre-Forward  28.0   \n",
       "\n",
       "   Markey Value In Millions(£)  Country                 Club  Matches  Goals  \\\n",
       "0                        144.0   France  Paris Saint-Germain     16.0    7.0   \n",
       "1                        135.0   Norway    Borussia Dortmund     10.0   13.0   \n",
       "2                        108.0  England    Tottenham Hotspur     16.0    7.0   \n",
       "\n",
       "   Own Goals  Assists  Yellow Cards  Second Yellow Cards  Red Cards  \\\n",
       "0        0.0      NaN           3.0                  0.0        0.0   \n",
       "1        0.0      NaN           1.0                  0.0        0.0   \n",
       "2        0.0      2.0           2.0                  0.0        0.0   \n",
       "\n",
       "   Number Of Substitute In  Number Of Substitute Out  \n",
       "0                      0.0                       8.0  \n",
       "1                      0.0                       1.0  \n",
       "2                      2.0                       2.0  "
      ]
     },
     "execution_count": 80,
     "metadata": {},
     "output_type": "execute_result"
    }
   ],
   "source": [
    "datasplit = pd.read_csv(\"players.csv\")\n",
    "datasplit.head(3)"
   ]
  },
  {
   "cell_type": "markdown",
   "id": "f0f89790-95c3-42a3-9e5f-70859b842e71",
   "metadata": {},
   "source": [
    "# MELAKUKAN DATA SPLITTING x dan y"
   ]
  },
  {
   "cell_type": "code",
   "execution_count": 48,
   "id": "b82fd04f-d353-42db-a49b-cba05b4ea511",
   "metadata": {},
   "outputs": [],
   "source": [
    "x = datasplit.iloc[:, :-1]\n",
    "y = datasplit.iloc[:, -1]"
   ]
  },
  {
   "cell_type": "markdown",
   "id": "9ddb3adb-df0c-4934-b415-5421e526bc09",
   "metadata": {},
   "source": [
    "# TRAINING SET 70:30"
   ]
  },
  {
   "cell_type": "code",
   "execution_count": 49,
   "id": "8ce4f7c7-50ac-4e49-8bbf-b00240bc1210",
   "metadata": {},
   "outputs": [],
   "source": [
    "x_train, x_test, y_train, y_test = train_test_split(x, y, test_size = 0.3)"
   ]
  },
  {
   "cell_type": "code",
   "execution_count": 50,
   "id": "6e30c1dc-03ac-44e4-8023-481137ab0828",
   "metadata": {},
   "outputs": [
    {
     "name": "stdout",
     "output_type": "stream",
     "text": [
      "Dimensi x_train : (350, 15)\n",
      "Dimensi x_test : (151, 15)\n",
      "Dimensi y_train : (350,)\n",
      "Dimensi y_test: (151,)\n"
     ]
    }
   ],
   "source": [
    "print(\"Dimensi x_train :\", x_train.shape)\n",
    "print(\"Dimensi x_test :\", x_test.shape)\n",
    "print(\"Dimensi y_train :\", y_train.shape)\n",
    "print(\"Dimensi y_test:\", y_test.shape)"
   ]
  },
  {
   "cell_type": "markdown",
   "id": "8ae50fcf-e026-4c5c-8fa8-cf06229359c6",
   "metadata": {},
   "source": [
    "# Data cleaning pada data dengan nilai null"
   ]
  },
  {
   "cell_type": "code",
   "execution_count": 51,
   "id": "3ee05d72-343d-4b09-8f9c-9131714b234e",
   "metadata": {},
   "outputs": [
    {
     "data": {
      "text/plain": [
       "Unnamed: 0                     0\n",
       "Name                           1\n",
       "Position                       1\n",
       "Age                            1\n",
       "Markey Value In Millions(£)    1\n",
       "Country                        1\n",
       "Club                           1\n",
       "Matches                        1\n",
       "Goals                          1\n",
       "Own Goals                      1\n",
       "Assists                        4\n",
       "Yellow Cards                   1\n",
       "Second Yellow Cards            1\n",
       "Red Cards                      1\n",
       "Number Of Substitute In        1\n",
       "Number Of Substitute Out       1\n",
       "dtype: int64"
      ]
     },
     "execution_count": 51,
     "metadata": {},
     "output_type": "execute_result"
    }
   ],
   "source": [
    "datasplit.isna().sum()"
   ]
  },
  {
   "cell_type": "markdown",
   "id": "2dd8038f-2baa-4ae0-bf3e-fd7d99de4039",
   "metadata": {},
   "source": [
    "# Data Cleaning membersihkan NULL pada atribut \"Assists, Goals, Age\"."
   ]
  },
  {
   "cell_type": "code",
   "execution_count": 52,
   "id": "a9a820da-18be-4dc9-870b-31abeae377c5",
   "metadata": {},
   "outputs": [],
   "source": [
    "from sklearn.impute import SimpleImputer\n",
    "imputer = SimpleImputer(strategy='mean')"
   ]
  },
  {
   "cell_type": "code",
   "execution_count": 53,
   "id": "3fce3b78-67da-4daa-8125-e99c082821ed",
   "metadata": {},
   "outputs": [],
   "source": [
    "datasplit[\"Assists\"] = imputer.fit_transform(datasplit[[\"Assists\"]])"
   ]
  },
  {
   "cell_type": "code",
   "execution_count": 54,
   "id": "ed736606-4ebb-4554-b717-a0db3f9b580a",
   "metadata": {},
   "outputs": [],
   "source": [
    "datasplit[\"Goals\"] = imputer.fit_transform(datasplit[[\"Goals\"]])"
   ]
  },
  {
   "cell_type": "code",
   "execution_count": 55,
   "id": "938bd49c-b5d6-424a-b9ea-dfcbf9978e77",
   "metadata": {},
   "outputs": [],
   "source": [
    "datasplit[\"Age\"] = imputer.fit_transform(datasplit[[\"Age\"]])"
   ]
  },
  {
   "cell_type": "code",
   "execution_count": 56,
   "id": "977d29fb-776b-40d6-9e38-4c273b0334dc",
   "metadata": {},
   "outputs": [
    {
     "data": {
      "text/plain": [
       "Unnamed: 0                     0\n",
       "Name                           1\n",
       "Position                       1\n",
       "Age                            0\n",
       "Markey Value In Millions(£)    1\n",
       "Country                        1\n",
       "Club                           1\n",
       "Matches                        1\n",
       "Goals                          0\n",
       "Own Goals                      1\n",
       "Assists                        0\n",
       "Yellow Cards                   1\n",
       "Second Yellow Cards            1\n",
       "Red Cards                      1\n",
       "Number Of Substitute In        1\n",
       "Number Of Substitute Out       1\n",
       "dtype: int64"
      ]
     },
     "execution_count": 56,
     "metadata": {},
     "output_type": "execute_result"
    }
   ],
   "source": [
    "datasplit.isna().sum()"
   ]
  },
  {
   "cell_type": "markdown",
   "id": "cde518b7-9d68-4532-8ef1-c31734dd8b1a",
   "metadata": {},
   "source": [
    "# Data cleaning pada data dengan nilai duplikat."
   ]
  },
  {
   "cell_type": "code",
   "execution_count": null,
   "id": "1e5bf1b2-98b9-454e-890c-e54a01aea658",
   "metadata": {},
   "outputs": [
    {
     "data": {
      "text/html": [
       "<div>\n",
       "<style scoped>\n",
       "    .dataframe tbody tr th:only-of-type {\n",
       "        vertical-align: middle;\n",
       "    }\n",
       "\n",
       "    .dataframe tbody tr th {\n",
       "        vertical-align: top;\n",
       "    }\n",
       "\n",
       "    .dataframe thead th {\n",
       "        text-align: right;\n",
       "    }\n",
       "</style>\n",
       "<table border=\"1\" class=\"dataframe\">\n",
       "  <thead>\n",
       "    <tr style=\"text-align: right;\">\n",
       "      <th></th>\n",
       "      <th>Unnamed: 0</th>\n",
       "      <th>Name</th>\n",
       "      <th>Position</th>\n",
       "      <th>Age</th>\n",
       "      <th>Markey Value In Millions(£)</th>\n",
       "      <th>Country</th>\n",
       "      <th>Club</th>\n",
       "      <th>Matches</th>\n",
       "      <th>Goals</th>\n",
       "      <th>Own Goals</th>\n",
       "      <th>Assists</th>\n",
       "      <th>Yellow Cards</th>\n",
       "      <th>Second Yellow Cards</th>\n",
       "      <th>Red Cards</th>\n",
       "      <th>Number Of Substitute In</th>\n",
       "      <th>Number Of Substitute Out</th>\n",
       "    </tr>\n",
       "  </thead>\n",
       "  <tbody>\n",
       "    <tr>\n",
       "      <th>500</th>\n",
       "      <td>350</td>\n",
       "      <td>Mattéo Guendouzi</td>\n",
       "      <td>Central Midfield</td>\n",
       "      <td>22.0</td>\n",
       "      <td>19.8</td>\n",
       "      <td>France</td>\n",
       "      <td>Olympique Marseille</td>\n",
       "      <td>17.0</td>\n",
       "      <td>3.0</td>\n",
       "      <td>0.0</td>\n",
       "      <td>3.0</td>\n",
       "      <td>2.0</td>\n",
       "      <td>0.0</td>\n",
       "      <td>0.0</td>\n",
       "      <td>1.0</td>\n",
       "      <td>5.0</td>\n",
       "    </tr>\n",
       "  </tbody>\n",
       "</table>\n",
       "</div>"
      ],
      "text/plain": [
       "    Unnamed: 0              Name          Position   Age  \\\n",
       "500        350  Mattéo Guendouzi  Central Midfield  22.0   \n",
       "\n",
       "     Markey Value In Millions(£) Country                 Club  Matches  Goals  \\\n",
       "500                         19.8  France  Olympique Marseille     17.0    3.0   \n",
       "\n",
       "     Own Goals  Assists  Yellow Cards  Second Yellow Cards  Red Cards  \\\n",
       "500        0.0      3.0           2.0                  0.0        0.0   \n",
       "\n",
       "     Number Of Substitute In  Number Of Substitute Out  \n",
       "500                      1.0                       5.0  "
      ]
     },
     "execution_count": 57,
     "metadata": {},
     "output_type": "execute_result"
    }
   ],
   "source": [
    "datasplit[datasplit.duplicated()]"
   ]
  },
  {
   "cell_type": "markdown",
   "id": "692e1842-efae-46a6-b0ca-9b10d437f338",
   "metadata": {},
   "source": [
    "# normalisasi data pada salah satu attribute menggunakan Min Max scaler"
   ]
  },
  {
   "cell_type": "code",
   "execution_count": 59,
   "id": "ca8b7eb5-fed0-4f9d-a2ab-85978b6bcb67",
   "metadata": {},
   "outputs": [],
   "source": [
    "datasplit2 = datasplit.copy()"
   ]
  },
  {
   "cell_type": "code",
   "execution_count": 65,
   "id": "23248037-1182-4a88-ba17-7dbf5cbdc759",
   "metadata": {},
   "outputs": [
    {
     "data": {
      "text/html": [
       "<div>\n",
       "<style scoped>\n",
       "    .dataframe tbody tr th:only-of-type {\n",
       "        vertical-align: middle;\n",
       "    }\n",
       "\n",
       "    .dataframe tbody tr th {\n",
       "        vertical-align: top;\n",
       "    }\n",
       "\n",
       "    .dataframe thead th {\n",
       "        text-align: right;\n",
       "    }\n",
       "</style>\n",
       "<table border=\"1\" class=\"dataframe\">\n",
       "  <thead>\n",
       "    <tr style=\"text-align: right;\">\n",
       "      <th></th>\n",
       "      <th>0</th>\n",
       "      <th>1</th>\n",
       "      <th>2</th>\n",
       "    </tr>\n",
       "  </thead>\n",
       "  <tbody>\n",
       "    <tr>\n",
       "      <th>0</th>\n",
       "      <td>0.124245</td>\n",
       "      <td>0.304348</td>\n",
       "      <td>0.30</td>\n",
       "    </tr>\n",
       "    <tr>\n",
       "      <th>1</th>\n",
       "      <td>0.124245</td>\n",
       "      <td>0.565217</td>\n",
       "      <td>0.25</td>\n",
       "    </tr>\n",
       "    <tr>\n",
       "      <th>2</th>\n",
       "      <td>0.166667</td>\n",
       "      <td>0.304348</td>\n",
       "      <td>0.60</td>\n",
       "    </tr>\n",
       "    <tr>\n",
       "      <th>3</th>\n",
       "      <td>0.250000</td>\n",
       "      <td>0.086957</td>\n",
       "      <td>0.50</td>\n",
       "    </tr>\n",
       "    <tr>\n",
       "      <th>4</th>\n",
       "      <td>0.500000</td>\n",
       "      <td>0.652174</td>\n",
       "      <td>0.65</td>\n",
       "    </tr>\n",
       "  </tbody>\n",
       "</table>\n",
       "</div>"
      ],
      "text/plain": [
       "          0         1     2\n",
       "0  0.124245  0.304348  0.30\n",
       "1  0.124245  0.565217  0.25\n",
       "2  0.166667  0.304348  0.60\n",
       "3  0.250000  0.086957  0.50\n",
       "4  0.500000  0.652174  0.65"
      ]
     },
     "execution_count": 65,
     "metadata": {},
     "output_type": "execute_result"
    }
   ],
   "source": [
    "from sklearn.preprocessing import MinMaxScaler\n",
    "\n",
    "min_max_scaler = MinMaxScaler()\n",
    "X_datasplit2 = min_max_scaler.fit_transform(\n",
    "    datasplit[['Assists', 'Goals','Age']]\n",
    ")\n",
    "\n",
    "data_normalization = pd.DataFrame(X_datasplit2)\n",
    "data_normalization.head()"
   ]
  },
  {
   "cell_type": "markdown",
   "id": "8eb23be7-6142-4a23-85ab-39c3b091f03a",
   "metadata": {},
   "source": [
    "# standarisasi pada dataset"
   ]
  },
  {
   "cell_type": "code",
   "execution_count": 66,
   "id": "31d46e4e-f22d-4cdc-b155-f1fa8435a4cd",
   "metadata": {},
   "outputs": [],
   "source": [
    "from sklearn.preprocessing import StandardScaler"
   ]
  },
  {
   "cell_type": "code",
   "execution_count": 68,
   "id": "78b7ae63-1684-4b44-93c3-a15f999cf461",
   "metadata": {},
   "outputs": [
    {
     "data": {
      "text/html": [
       "<div>\n",
       "<style scoped>\n",
       "    .dataframe tbody tr th:only-of-type {\n",
       "        vertical-align: middle;\n",
       "    }\n",
       "\n",
       "    .dataframe tbody tr th {\n",
       "        vertical-align: top;\n",
       "    }\n",
       "\n",
       "    .dataframe thead th {\n",
       "        text-align: right;\n",
       "    }\n",
       "</style>\n",
       "<table border=\"1\" class=\"dataframe\">\n",
       "  <thead>\n",
       "    <tr style=\"text-align: right;\">\n",
       "      <th></th>\n",
       "      <th>0</th>\n",
       "      <th>1</th>\n",
       "      <th>2</th>\n",
       "    </tr>\n",
       "  </thead>\n",
       "  <tbody>\n",
       "    <tr>\n",
       "      <th>0</th>\n",
       "      <td>0.000000</td>\n",
       "      <td>1.686754</td>\n",
       "      <td>-0.935637</td>\n",
       "    </tr>\n",
       "    <tr>\n",
       "      <th>1</th>\n",
       "      <td>0.000000</td>\n",
       "      <td>3.776044</td>\n",
       "      <td>-1.252373</td>\n",
       "    </tr>\n",
       "    <tr>\n",
       "      <th>2</th>\n",
       "      <td>0.283247</td>\n",
       "      <td>1.686754</td>\n",
       "      <td>0.964777</td>\n",
       "    </tr>\n",
       "    <tr>\n",
       "      <th>3</th>\n",
       "      <td>0.839666</td>\n",
       "      <td>-0.054322</td>\n",
       "      <td>0.331306</td>\n",
       "    </tr>\n",
       "    <tr>\n",
       "      <th>4</th>\n",
       "      <td>2.508921</td>\n",
       "      <td>4.472474</td>\n",
       "      <td>1.281513</td>\n",
       "    </tr>\n",
       "  </tbody>\n",
       "</table>\n",
       "</div>"
      ],
      "text/plain": [
       "          0         1         2\n",
       "0  0.000000  1.686754 -0.935637\n",
       "1  0.000000  3.776044 -1.252373\n",
       "2  0.283247  1.686754  0.964777\n",
       "3  0.839666 -0.054322  0.331306\n",
       "4  2.508921  4.472474  1.281513"
      ]
     },
     "execution_count": 68,
     "metadata": {},
     "output_type": "execute_result"
    }
   ],
   "source": [
    "ss = StandardScaler()\n",
    "\n",
    "X_datasplit2 = ss.fit_transform(\n",
    "    datasplit[['Assists', 'Goals','Age']]\n",
    ")\n",
    "\n",
    "data_standarization = pd.DataFrame(X_datasplit2)\n",
    "data_standarization.head()"
   ]
  },
  {
   "cell_type": "markdown",
   "id": "2b77d2f7-fd0e-4ba1-b05e-1cc3daa7e4c3",
   "metadata": {},
   "source": [
    "# Mengganti salah satu Atribut bertipe data angka"
   ]
  },
  {
   "cell_type": "code",
   "execution_count": 71,
   "id": "f790fe3f-a2f4-4200-b1f9-c37eaa57aa92",
   "metadata": {},
   "outputs": [],
   "source": [
    "datasplit.dtypes\n",
    "datasplit[\"Age\"] = datasplit[\"Age\"].astype(\"int\")"
   ]
  },
  {
   "cell_type": "code",
   "execution_count": 73,
   "id": "32202436-5b17-471b-8c13-ac6df1248778",
   "metadata": {},
   "outputs": [
    {
     "data": {
      "text/plain": [
       "Unnamed: 0                      object\n",
       "Name                            object\n",
       "Position                        object\n",
       "Age                              int32\n",
       "Markey Value In Millions(£)    float64\n",
       "Country                         object\n",
       "Club                            object\n",
       "Matches                        float64\n",
       "Goals                          float64\n",
       "Own Goals                      float64\n",
       "Assists                        float64\n",
       "Yellow Cards                   float64\n",
       "Second Yellow Cards            float64\n",
       "Red Cards                      float64\n",
       "Number Of Substitute In        float64\n",
       "Number Of Substitute Out       float64\n",
       "dtype: object"
      ]
     },
     "execution_count": 73,
     "metadata": {},
     "output_type": "execute_result"
    }
   ],
   "source": [
    "datasplit.dtypes"
   ]
  },
  {
   "cell_type": "markdown",
   "id": "64aad82f-7ae0-400b-80b7-847139b53b62",
   "metadata": {},
   "source": [
    "# Melakukan One Hot Encoding pada Dataset"
   ]
  },
  {
   "cell_type": "code",
   "execution_count": 74,
   "id": "a14f8b48-92f8-4c27-8f27-8948a695d0b8",
   "metadata": {},
   "outputs": [],
   "source": [
    "from sklearn.preprocessing import OneHotEncoder"
   ]
  },
  {
   "cell_type": "code",
   "execution_count": 76,
   "id": "21cf3aee-d34f-4975-947e-8c8c5788bd0b",
   "metadata": {},
   "outputs": [],
   "source": [
    "onehotencoder = OneHotEncoder(sparse=False)\n",
    "VG_encoded2 = onehotencoder.fit_transform(datasplit[[\"Position\"]])\n",
    "\n",
    "datasplit2 = pd.DataFrame(VG_encoded2)\n",
    "datasplit = datasplit.join(datasplit2)"
   ]
  },
  {
   "cell_type": "code",
   "execution_count": 78,
   "id": "055cc730-69ee-49c4-a830-26e5d259753d",
   "metadata": {},
   "outputs": [
    {
     "data": {
      "text/html": [
       "<div>\n",
       "<style scoped>\n",
       "    .dataframe tbody tr th:only-of-type {\n",
       "        vertical-align: middle;\n",
       "    }\n",
       "\n",
       "    .dataframe tbody tr th {\n",
       "        vertical-align: top;\n",
       "    }\n",
       "\n",
       "    .dataframe thead th {\n",
       "        text-align: right;\n",
       "    }\n",
       "</style>\n",
       "<table border=\"1\" class=\"dataframe\">\n",
       "  <thead>\n",
       "    <tr style=\"text-align: right;\">\n",
       "      <th></th>\n",
       "      <th>Unnamed: 0</th>\n",
       "      <th>Name</th>\n",
       "      <th>Position</th>\n",
       "      <th>Age</th>\n",
       "      <th>Markey Value In Millions(£)</th>\n",
       "      <th>Country</th>\n",
       "      <th>Club</th>\n",
       "      <th>Matches</th>\n",
       "      <th>Goals</th>\n",
       "      <th>Own Goals</th>\n",
       "      <th>...</th>\n",
       "      <th>4</th>\n",
       "      <th>5</th>\n",
       "      <th>6</th>\n",
       "      <th>7</th>\n",
       "      <th>8</th>\n",
       "      <th>9</th>\n",
       "      <th>10</th>\n",
       "      <th>11</th>\n",
       "      <th>12</th>\n",
       "      <th>13</th>\n",
       "    </tr>\n",
       "  </thead>\n",
       "  <tbody>\n",
       "    <tr>\n",
       "      <th>0</th>\n",
       "      <td>0</td>\n",
       "      <td>Kylian Mbappé</td>\n",
       "      <td>Centre-Forward</td>\n",
       "      <td>22</td>\n",
       "      <td>144.0</td>\n",
       "      <td>France</td>\n",
       "      <td>Paris Saint-Germain</td>\n",
       "      <td>16.0</td>\n",
       "      <td>7.0</td>\n",
       "      <td>0.0</td>\n",
       "      <td>...</td>\n",
       "      <td>0.0</td>\n",
       "      <td>0.0</td>\n",
       "      <td>0.0</td>\n",
       "      <td>0.0</td>\n",
       "      <td>0.0</td>\n",
       "      <td>0.0</td>\n",
       "      <td>0.0</td>\n",
       "      <td>0.0</td>\n",
       "      <td>0.0</td>\n",
       "      <td>0.0</td>\n",
       "    </tr>\n",
       "    <tr>\n",
       "      <th>1</th>\n",
       "      <td>1</td>\n",
       "      <td>Erling Haaland</td>\n",
       "      <td>Centre-Forward</td>\n",
       "      <td>21</td>\n",
       "      <td>135.0</td>\n",
       "      <td>Norway</td>\n",
       "      <td>Borussia Dortmund</td>\n",
       "      <td>10.0</td>\n",
       "      <td>13.0</td>\n",
       "      <td>0.0</td>\n",
       "      <td>...</td>\n",
       "      <td>0.0</td>\n",
       "      <td>0.0</td>\n",
       "      <td>0.0</td>\n",
       "      <td>0.0</td>\n",
       "      <td>0.0</td>\n",
       "      <td>0.0</td>\n",
       "      <td>0.0</td>\n",
       "      <td>0.0</td>\n",
       "      <td>0.0</td>\n",
       "      <td>0.0</td>\n",
       "    </tr>\n",
       "    <tr>\n",
       "      <th>2</th>\n",
       "      <td>2</td>\n",
       "      <td>Harry Kane</td>\n",
       "      <td>Centre-Forward</td>\n",
       "      <td>28</td>\n",
       "      <td>108.0</td>\n",
       "      <td>England</td>\n",
       "      <td>Tottenham Hotspur</td>\n",
       "      <td>16.0</td>\n",
       "      <td>7.0</td>\n",
       "      <td>0.0</td>\n",
       "      <td>...</td>\n",
       "      <td>0.0</td>\n",
       "      <td>0.0</td>\n",
       "      <td>0.0</td>\n",
       "      <td>0.0</td>\n",
       "      <td>0.0</td>\n",
       "      <td>0.0</td>\n",
       "      <td>0.0</td>\n",
       "      <td>0.0</td>\n",
       "      <td>0.0</td>\n",
       "      <td>0.0</td>\n",
       "    </tr>\n",
       "    <tr>\n",
       "      <th>3</th>\n",
       "      <td>3</td>\n",
       "      <td>Jack Grealish</td>\n",
       "      <td>Left Winger</td>\n",
       "      <td>26</td>\n",
       "      <td>90.0</td>\n",
       "      <td>England</td>\n",
       "      <td>Manchester City</td>\n",
       "      <td>15.0</td>\n",
       "      <td>2.0</td>\n",
       "      <td>0.0</td>\n",
       "      <td>...</td>\n",
       "      <td>0.0</td>\n",
       "      <td>0.0</td>\n",
       "      <td>0.0</td>\n",
       "      <td>1.0</td>\n",
       "      <td>0.0</td>\n",
       "      <td>0.0</td>\n",
       "      <td>0.0</td>\n",
       "      <td>0.0</td>\n",
       "      <td>0.0</td>\n",
       "      <td>0.0</td>\n",
       "    </tr>\n",
       "    <tr>\n",
       "      <th>4</th>\n",
       "      <td>4</td>\n",
       "      <td>Mohamed Salah</td>\n",
       "      <td>Right Winger</td>\n",
       "      <td>29</td>\n",
       "      <td>90.0</td>\n",
       "      <td>Egypt</td>\n",
       "      <td>Liverpool FC</td>\n",
       "      <td>15.0</td>\n",
       "      <td>15.0</td>\n",
       "      <td>0.0</td>\n",
       "      <td>...</td>\n",
       "      <td>0.0</td>\n",
       "      <td>0.0</td>\n",
       "      <td>0.0</td>\n",
       "      <td>0.0</td>\n",
       "      <td>0.0</td>\n",
       "      <td>0.0</td>\n",
       "      <td>1.0</td>\n",
       "      <td>0.0</td>\n",
       "      <td>0.0</td>\n",
       "      <td>0.0</td>\n",
       "    </tr>\n",
       "  </tbody>\n",
       "</table>\n",
       "<p>5 rows × 30 columns</p>\n",
       "</div>"
      ],
      "text/plain": [
       "  Unnamed: 0            Name        Position  Age  \\\n",
       "0          0   Kylian Mbappé  Centre-Forward   22   \n",
       "1          1  Erling Haaland  Centre-Forward   21   \n",
       "2          2      Harry Kane  Centre-Forward   28   \n",
       "3          3   Jack Grealish     Left Winger   26   \n",
       "4          4   Mohamed Salah    Right Winger   29   \n",
       "\n",
       "   Markey Value In Millions(£)  Country                 Club  Matches  Goals  \\\n",
       "0                        144.0   France  Paris Saint-Germain     16.0    7.0   \n",
       "1                        135.0   Norway    Borussia Dortmund     10.0   13.0   \n",
       "2                        108.0  England    Tottenham Hotspur     16.0    7.0   \n",
       "3                         90.0  England      Manchester City     15.0    2.0   \n",
       "4                         90.0    Egypt         Liverpool FC     15.0   15.0   \n",
       "\n",
       "   Own Goals  ...    4    5    6    7    8    9   10   11   12   13  \n",
       "0        0.0  ...  0.0  0.0  0.0  0.0  0.0  0.0  0.0  0.0  0.0  0.0  \n",
       "1        0.0  ...  0.0  0.0  0.0  0.0  0.0  0.0  0.0  0.0  0.0  0.0  \n",
       "2        0.0  ...  0.0  0.0  0.0  0.0  0.0  0.0  0.0  0.0  0.0  0.0  \n",
       "3        0.0  ...  0.0  0.0  0.0  1.0  0.0  0.0  0.0  0.0  0.0  0.0  \n",
       "4        0.0  ...  0.0  0.0  0.0  0.0  0.0  0.0  1.0  0.0  0.0  0.0  \n",
       "\n",
       "[5 rows x 30 columns]"
      ]
     },
     "execution_count": 78,
     "metadata": {},
     "output_type": "execute_result"
    }
   ],
   "source": [
    "datasplit.head()"
   ]
  },
  {
   "cell_type": "code",
   "execution_count": null,
   "id": "c4ea9d11-dd9e-4bba-adda-a15b6fc2f266",
   "metadata": {},
   "outputs": [],
   "source": []
  }
 ],
 "metadata": {
  "kernelspec": {
   "display_name": "Python 3 (ipykernel)",
   "language": "python",
   "name": "python3"
  },
  "language_info": {
   "codemirror_mode": {
    "name": "ipython",
    "version": 3
   },
   "file_extension": ".py",
   "mimetype": "text/x-python",
   "name": "python",
   "nbconvert_exporter": "python",
   "pygments_lexer": "ipython3",
   "version": "3.10.7"
  }
 },
 "nbformat": 4,
 "nbformat_minor": 5
}
