{
 "cells": [
  {
   "cell_type": "code",
   "execution_count": 74,
   "id": "8ef51ffc-ab4f-4657-a6d6-2cf5f0f51bff",
   "metadata": {},
   "outputs": [],
   "source": [
    "import pandas as pd\n",
    "import seaborn as sns"
   ]
  },
  {
   "cell_type": "code",
   "execution_count": 75,
   "id": "652c596d-2ecd-43c5-97a2-ba2707ae35a1",
   "metadata": {},
   "outputs": [],
   "source": [
    "warnings.filterwarnings('ignore')"
   ]
  },
  {
   "cell_type": "code",
   "execution_count": 76,
   "id": "766f8bb5-688c-4665-9f5c-77c1f597f3a7",
   "metadata": {},
   "outputs": [
    {
     "data": {
      "text/html": [
       "<div>\n",
       "<style scoped>\n",
       "    .dataframe tbody tr th:only-of-type {\n",
       "        vertical-align: middle;\n",
       "    }\n",
       "\n",
       "    .dataframe tbody tr th {\n",
       "        vertical-align: top;\n",
       "    }\n",
       "\n",
       "    .dataframe thead th {\n",
       "        text-align: right;\n",
       "    }\n",
       "</style>\n",
       "<table border=\"1\" class=\"dataframe\">\n",
       "  <thead>\n",
       "    <tr style=\"text-align: right;\">\n",
       "      <th></th>\n",
       "      <th>Unnamed: 0</th>\n",
       "      <th>Name</th>\n",
       "      <th>Position</th>\n",
       "      <th>Age</th>\n",
       "      <th>Markey Value In Millions(£)</th>\n",
       "      <th>Country</th>\n",
       "      <th>Club</th>\n",
       "      <th>Matches</th>\n",
       "      <th>Goals</th>\n",
       "      <th>Own Goals</th>\n",
       "      <th>Assists</th>\n",
       "      <th>Yellow Cards</th>\n",
       "      <th>Second Yellow Cards</th>\n",
       "      <th>Red Cards</th>\n",
       "      <th>Number Of Substitute In</th>\n",
       "      <th>Number Of Substitute Out</th>\n",
       "    </tr>\n",
       "  </thead>\n",
       "  <tbody>\n",
       "    <tr>\n",
       "      <th>0</th>\n",
       "      <td>0</td>\n",
       "      <td>Kylian Mbappé</td>\n",
       "      <td>Centre-Forward</td>\n",
       "      <td>22</td>\n",
       "      <td>144.0</td>\n",
       "      <td>France</td>\n",
       "      <td>Paris Saint-Germain</td>\n",
       "      <td>16</td>\n",
       "      <td>7</td>\n",
       "      <td>0</td>\n",
       "      <td>0</td>\n",
       "      <td>3</td>\n",
       "      <td>0</td>\n",
       "      <td>0</td>\n",
       "      <td>0</td>\n",
       "      <td>8</td>\n",
       "    </tr>\n",
       "    <tr>\n",
       "      <th>1</th>\n",
       "      <td>1</td>\n",
       "      <td>Erling Haaland</td>\n",
       "      <td>Centre-Forward</td>\n",
       "      <td>21</td>\n",
       "      <td>135.0</td>\n",
       "      <td>Norway</td>\n",
       "      <td>Borussia Dortmund</td>\n",
       "      <td>10</td>\n",
       "      <td>13</td>\n",
       "      <td>0</td>\n",
       "      <td>0</td>\n",
       "      <td>1</td>\n",
       "      <td>0</td>\n",
       "      <td>0</td>\n",
       "      <td>0</td>\n",
       "      <td>1</td>\n",
       "    </tr>\n",
       "    <tr>\n",
       "      <th>2</th>\n",
       "      <td>2</td>\n",
       "      <td>Harry Kane</td>\n",
       "      <td>Centre-Forward</td>\n",
       "      <td>28</td>\n",
       "      <td>108.0</td>\n",
       "      <td>England</td>\n",
       "      <td>Tottenham Hotspur</td>\n",
       "      <td>16</td>\n",
       "      <td>7</td>\n",
       "      <td>0</td>\n",
       "      <td>2</td>\n",
       "      <td>2</td>\n",
       "      <td>0</td>\n",
       "      <td>0</td>\n",
       "      <td>2</td>\n",
       "      <td>2</td>\n",
       "    </tr>\n",
       "    <tr>\n",
       "      <th>3</th>\n",
       "      <td>3</td>\n",
       "      <td>Jack Grealish</td>\n",
       "      <td>Left Winger</td>\n",
       "      <td>26</td>\n",
       "      <td>90.0</td>\n",
       "      <td>England</td>\n",
       "      <td>Manchester City</td>\n",
       "      <td>15</td>\n",
       "      <td>2</td>\n",
       "      <td>0</td>\n",
       "      <td>3</td>\n",
       "      <td>1</td>\n",
       "      <td>0</td>\n",
       "      <td>0</td>\n",
       "      <td>2</td>\n",
       "      <td>8</td>\n",
       "    </tr>\n",
       "    <tr>\n",
       "      <th>4</th>\n",
       "      <td>4</td>\n",
       "      <td>Mohamed Salah</td>\n",
       "      <td>Right Winger</td>\n",
       "      <td>29</td>\n",
       "      <td>90.0</td>\n",
       "      <td>Egypt</td>\n",
       "      <td>Liverpool FC</td>\n",
       "      <td>15</td>\n",
       "      <td>15</td>\n",
       "      <td>0</td>\n",
       "      <td>6</td>\n",
       "      <td>1</td>\n",
       "      <td>0</td>\n",
       "      <td>0</td>\n",
       "      <td>0</td>\n",
       "      <td>3</td>\n",
       "    </tr>\n",
       "    <tr>\n",
       "      <th>...</th>\n",
       "      <td>...</td>\n",
       "      <td>...</td>\n",
       "      <td>...</td>\n",
       "      <td>...</td>\n",
       "      <td>...</td>\n",
       "      <td>...</td>\n",
       "      <td>...</td>\n",
       "      <td>...</td>\n",
       "      <td>...</td>\n",
       "      <td>...</td>\n",
       "      <td>...</td>\n",
       "      <td>...</td>\n",
       "      <td>...</td>\n",
       "      <td>...</td>\n",
       "      <td>...</td>\n",
       "      <td>...</td>\n",
       "    </tr>\n",
       "    <tr>\n",
       "      <th>495</th>\n",
       "      <td>495</td>\n",
       "      <td>Giorgian de Arrascaeta</td>\n",
       "      <td>Attacking Midfield</td>\n",
       "      <td>27</td>\n",
       "      <td>16.2</td>\n",
       "      <td>Uruguay</td>\n",
       "      <td>Clube de Regatas do Flamengo</td>\n",
       "      <td>0</td>\n",
       "      <td>0</td>\n",
       "      <td>0</td>\n",
       "      <td>0</td>\n",
       "      <td>0</td>\n",
       "      <td>0</td>\n",
       "      <td>0</td>\n",
       "      <td>0</td>\n",
       "      <td>0</td>\n",
       "    </tr>\n",
       "    <tr>\n",
       "      <th>496</th>\n",
       "      <td>496</td>\n",
       "      <td>Ayoze Pérez</td>\n",
       "      <td>Second Striker</td>\n",
       "      <td>28</td>\n",
       "      <td>16.2</td>\n",
       "      <td>Spain</td>\n",
       "      <td>Leicester City</td>\n",
       "      <td>8</td>\n",
       "      <td>1</td>\n",
       "      <td>0</td>\n",
       "      <td>3</td>\n",
       "      <td>0</td>\n",
       "      <td>0</td>\n",
       "      <td>1</td>\n",
       "      <td>2</td>\n",
       "      <td>5</td>\n",
       "    </tr>\n",
       "    <tr>\n",
       "      <th>497</th>\n",
       "      <td>497</td>\n",
       "      <td>Alex Meret</td>\n",
       "      <td>Goalkeeper</td>\n",
       "      <td>24</td>\n",
       "      <td>16.2</td>\n",
       "      <td>Italy</td>\n",
       "      <td>SSC Napoli</td>\n",
       "      <td>5</td>\n",
       "      <td>0</td>\n",
       "      <td>0</td>\n",
       "      <td>0</td>\n",
       "      <td>0</td>\n",
       "      <td>0</td>\n",
       "      <td>0</td>\n",
       "      <td>0</td>\n",
       "      <td>0</td>\n",
       "    </tr>\n",
       "    <tr>\n",
       "      <th>498</th>\n",
       "      <td>498</td>\n",
       "      <td>Duje Caleta-Car</td>\n",
       "      <td>Centre-Back</td>\n",
       "      <td>25</td>\n",
       "      <td>16.2</td>\n",
       "      <td>Croatia</td>\n",
       "      <td>Olympique Marseille</td>\n",
       "      <td>8</td>\n",
       "      <td>0</td>\n",
       "      <td>0</td>\n",
       "      <td>0</td>\n",
       "      <td>2</td>\n",
       "      <td>0</td>\n",
       "      <td>0</td>\n",
       "      <td>0</td>\n",
       "      <td>2</td>\n",
       "    </tr>\n",
       "    <tr>\n",
       "      <th>499</th>\n",
       "      <td>499</td>\n",
       "      <td>Aritz Elustondo</td>\n",
       "      <td>Centre-Back</td>\n",
       "      <td>27</td>\n",
       "      <td>16.2</td>\n",
       "      <td>Spain</td>\n",
       "      <td>Real Sociedad</td>\n",
       "      <td>15</td>\n",
       "      <td>3</td>\n",
       "      <td>0</td>\n",
       "      <td>1</td>\n",
       "      <td>4</td>\n",
       "      <td>0</td>\n",
       "      <td>0</td>\n",
       "      <td>1</td>\n",
       "      <td>1</td>\n",
       "    </tr>\n",
       "  </tbody>\n",
       "</table>\n",
       "<p>500 rows × 16 columns</p>\n",
       "</div>"
      ],
      "text/plain": [
       "     Unnamed: 0                    Name            Position  Age  \\\n",
       "0             0           Kylian Mbappé      Centre-Forward   22   \n",
       "1             1          Erling Haaland      Centre-Forward   21   \n",
       "2             2              Harry Kane      Centre-Forward   28   \n",
       "3             3           Jack Grealish         Left Winger   26   \n",
       "4             4           Mohamed Salah        Right Winger   29   \n",
       "..          ...                     ...                 ...  ...   \n",
       "495         495  Giorgian de Arrascaeta  Attacking Midfield   27   \n",
       "496         496             Ayoze Pérez      Second Striker   28   \n",
       "497         497              Alex Meret          Goalkeeper   24   \n",
       "498         498         Duje Caleta-Car         Centre-Back   25   \n",
       "499         499         Aritz Elustondo         Centre-Back   27   \n",
       "\n",
       "     Markey Value In Millions(£)  Country                          Club  \\\n",
       "0                          144.0   France           Paris Saint-Germain   \n",
       "1                          135.0   Norway             Borussia Dortmund   \n",
       "2                          108.0  England             Tottenham Hotspur   \n",
       "3                           90.0  England               Manchester City   \n",
       "4                           90.0    Egypt                  Liverpool FC   \n",
       "..                           ...      ...                           ...   \n",
       "495                         16.2  Uruguay  Clube de Regatas do Flamengo   \n",
       "496                         16.2    Spain                Leicester City   \n",
       "497                         16.2    Italy                    SSC Napoli   \n",
       "498                         16.2  Croatia           Olympique Marseille   \n",
       "499                         16.2    Spain                 Real Sociedad   \n",
       "\n",
       "     Matches  Goals  Own Goals  Assists  Yellow Cards  Second Yellow Cards  \\\n",
       "0         16      7          0        0             3                    0   \n",
       "1         10     13          0        0             1                    0   \n",
       "2         16      7          0        2             2                    0   \n",
       "3         15      2          0        3             1                    0   \n",
       "4         15     15          0        6             1                    0   \n",
       "..       ...    ...        ...      ...           ...                  ...   \n",
       "495        0      0          0        0             0                    0   \n",
       "496        8      1          0        3             0                    0   \n",
       "497        5      0          0        0             0                    0   \n",
       "498        8      0          0        0             2                    0   \n",
       "499       15      3          0        1             4                    0   \n",
       "\n",
       "     Red Cards  Number Of Substitute In  Number Of Substitute Out  \n",
       "0            0                        0                         8  \n",
       "1            0                        0                         1  \n",
       "2            0                        2                         2  \n",
       "3            0                        2                         8  \n",
       "4            0                        0                         3  \n",
       "..         ...                      ...                       ...  \n",
       "495          0                        0                         0  \n",
       "496          1                        2                         5  \n",
       "497          0                        0                         0  \n",
       "498          0                        0                         2  \n",
       "499          0                        1                         1  \n",
       "\n",
       "[500 rows x 16 columns]"
      ]
     },
     "execution_count": 76,
     "metadata": {},
     "output_type": "execute_result"
    }
   ],
   "source": [
    "dp = pd.read_csv(\"players.csv\")\n",
    "dp"
   ]
  },
  {
   "cell_type": "markdown",
   "id": "603f3582-fc4e-4ede-8e4e-c4cba7069280",
   "metadata": {},
   "source": [
    "# DATA SCALING"
   ]
  },
  {
   "cell_type": "code",
   "execution_count": 77,
   "id": "6d391885-3dfe-496f-bd10-6563eec97868",
   "metadata": {},
   "outputs": [],
   "source": [
    "from sklearn.preprocessing import StandardScaler"
   ]
  },
  {
   "cell_type": "code",
   "execution_count": 78,
   "id": "a073a60b-d8c2-4cf3-8df3-aaa27402df7d",
   "metadata": {},
   "outputs": [],
   "source": [
    "dp_subset = dp[['Matches', 'Goals']]"
   ]
  },
  {
   "cell_type": "code",
   "execution_count": 79,
   "id": "0d4fa3ab-fed7-4c94-b8d6-157d2d2ea2cf",
   "metadata": {},
   "outputs": [],
   "source": [
    "ss = StandardScaler()"
   ]
  },
  {
   "cell_type": "code",
   "execution_count": 80,
   "id": "9c5957c6-7a3b-45ba-a1b2-ecfefc1f0cf9",
   "metadata": {},
   "outputs": [],
   "source": [
    "x_scaled = ss.fit_transform(dp_subset)"
   ]
  },
  {
   "cell_type": "markdown",
   "id": "411f35e9-880d-43ce-b7ec-0f987acd31e0",
   "metadata": {},
   "source": [
    "# K-Means Clustering"
   ]
  },
  {
   "cell_type": "code",
   "execution_count": 81,
   "id": "7cb28aff-a62b-4ba9-a907-234309efe7d7",
   "metadata": {},
   "outputs": [],
   "source": [
    "from sklearn.cluster import KMeans"
   ]
  },
  {
   "cell_type": "code",
   "execution_count": 82,
   "id": "b8df1010-f2d4-46a6-9791-c48a0ceb05c5",
   "metadata": {},
   "outputs": [],
   "source": [
    "model_kmeans = KMeans(n_clusters = 3)"
   ]
  },
  {
   "cell_type": "code",
   "execution_count": 83,
   "id": "fbc2e7c0-c30e-40fb-aa0a-3a203aab8db0",
   "metadata": {},
   "outputs": [
    {
     "data": {
      "text/html": [
       "<style>#sk-container-id-3 {color: black;background-color: white;}#sk-container-id-3 pre{padding: 0;}#sk-container-id-3 div.sk-toggleable {background-color: white;}#sk-container-id-3 label.sk-toggleable__label {cursor: pointer;display: block;width: 100%;margin-bottom: 0;padding: 0.3em;box-sizing: border-box;text-align: center;}#sk-container-id-3 label.sk-toggleable__label-arrow:before {content: \"▸\";float: left;margin-right: 0.25em;color: #696969;}#sk-container-id-3 label.sk-toggleable__label-arrow:hover:before {color: black;}#sk-container-id-3 div.sk-estimator:hover label.sk-toggleable__label-arrow:before {color: black;}#sk-container-id-3 div.sk-toggleable__content {max-height: 0;max-width: 0;overflow: hidden;text-align: left;background-color: #f0f8ff;}#sk-container-id-3 div.sk-toggleable__content pre {margin: 0.2em;color: black;border-radius: 0.25em;background-color: #f0f8ff;}#sk-container-id-3 input.sk-toggleable__control:checked~div.sk-toggleable__content {max-height: 200px;max-width: 100%;overflow: auto;}#sk-container-id-3 input.sk-toggleable__control:checked~label.sk-toggleable__label-arrow:before {content: \"▾\";}#sk-container-id-3 div.sk-estimator input.sk-toggleable__control:checked~label.sk-toggleable__label {background-color: #d4ebff;}#sk-container-id-3 div.sk-label input.sk-toggleable__control:checked~label.sk-toggleable__label {background-color: #d4ebff;}#sk-container-id-3 input.sk-hidden--visually {border: 0;clip: rect(1px 1px 1px 1px);clip: rect(1px, 1px, 1px, 1px);height: 1px;margin: -1px;overflow: hidden;padding: 0;position: absolute;width: 1px;}#sk-container-id-3 div.sk-estimator {font-family: monospace;background-color: #f0f8ff;border: 1px dotted black;border-radius: 0.25em;box-sizing: border-box;margin-bottom: 0.5em;}#sk-container-id-3 div.sk-estimator:hover {background-color: #d4ebff;}#sk-container-id-3 div.sk-parallel-item::after {content: \"\";width: 100%;border-bottom: 1px solid gray;flex-grow: 1;}#sk-container-id-3 div.sk-label:hover label.sk-toggleable__label {background-color: #d4ebff;}#sk-container-id-3 div.sk-serial::before {content: \"\";position: absolute;border-left: 1px solid gray;box-sizing: border-box;top: 0;bottom: 0;left: 50%;z-index: 0;}#sk-container-id-3 div.sk-serial {display: flex;flex-direction: column;align-items: center;background-color: white;padding-right: 0.2em;padding-left: 0.2em;position: relative;}#sk-container-id-3 div.sk-item {position: relative;z-index: 1;}#sk-container-id-3 div.sk-parallel {display: flex;align-items: stretch;justify-content: center;background-color: white;position: relative;}#sk-container-id-3 div.sk-item::before, #sk-container-id-3 div.sk-parallel-item::before {content: \"\";position: absolute;border-left: 1px solid gray;box-sizing: border-box;top: 0;bottom: 0;left: 50%;z-index: -1;}#sk-container-id-3 div.sk-parallel-item {display: flex;flex-direction: column;z-index: 1;position: relative;background-color: white;}#sk-container-id-3 div.sk-parallel-item:first-child::after {align-self: flex-end;width: 50%;}#sk-container-id-3 div.sk-parallel-item:last-child::after {align-self: flex-start;width: 50%;}#sk-container-id-3 div.sk-parallel-item:only-child::after {width: 0;}#sk-container-id-3 div.sk-dashed-wrapped {border: 1px dashed gray;margin: 0 0.4em 0.5em 0.4em;box-sizing: border-box;padding-bottom: 0.4em;background-color: white;}#sk-container-id-3 div.sk-label label {font-family: monospace;font-weight: bold;display: inline-block;line-height: 1.2em;}#sk-container-id-3 div.sk-label-container {text-align: center;}#sk-container-id-3 div.sk-container {/* jupyter's `normalize.less` sets `[hidden] { display: none; }` but bootstrap.min.css set `[hidden] { display: none !important; }` so we also need the `!important` here to be able to override the default hidden behavior on the sphinx rendered scikit-learn.org. See: https://github.com/scikit-learn/scikit-learn/issues/21755 */display: inline-block !important;position: relative;}#sk-container-id-3 div.sk-text-repr-fallback {display: none;}</style><div id=\"sk-container-id-3\" class=\"sk-top-container\"><div class=\"sk-text-repr-fallback\"><pre>KMeans(n_clusters=3)</pre><b>In a Jupyter environment, please rerun this cell to show the HTML representation or trust the notebook. <br />On GitHub, the HTML representation is unable to render, please try loading this page with nbviewer.org.</b></div><div class=\"sk-container\" hidden><div class=\"sk-item\"><div class=\"sk-estimator sk-toggleable\"><input class=\"sk-toggleable__control sk-hidden--visually\" id=\"sk-estimator-id-3\" type=\"checkbox\" checked><label for=\"sk-estimator-id-3\" class=\"sk-toggleable__label sk-toggleable__label-arrow\">KMeans</label><div class=\"sk-toggleable__content\"><pre>KMeans(n_clusters=3)</pre></div></div></div></div></div>"
      ],
      "text/plain": [
       "KMeans(n_clusters=3)"
      ]
     },
     "execution_count": 83,
     "metadata": {},
     "output_type": "execute_result"
    }
   ],
   "source": [
    "model_kmeans.fit(x_scaled)"
   ]
  },
  {
   "cell_type": "code",
   "execution_count": 84,
   "id": "096a9bab-4199-48f5-a745-eb129ed762c0",
   "metadata": {},
   "outputs": [],
   "source": [
    "labels = model_kmeans.labels_"
   ]
  },
  {
   "cell_type": "code",
   "execution_count": 85,
   "id": "8a8c5589-96e2-4496-bd7b-d934306d4eea",
   "metadata": {},
   "outputs": [
    {
     "name": "stdout",
     "output_type": "stream",
     "text": [
      "[1 1 1 2 1 0 2 0 2 2 1 2 2 0 1 1 0 1 1 0 0 2 2 2 2 2 0 2 2 2 2 1 2 2 2 2 2\n",
      " 0 1 2 2 2 1 2 2 0 2 2 0 2 1 2 2 2 0 2 0 2 1 2 2 2 2 1 2 0 2 2 0 0 2 0 2 0\n",
      " 2 2 2 2 2 0 1 1 2 0 2 0 0 0 2 1 2 2 1 2 1 2 1 2 0 2 1 2 2 2 0 1 2 0 1 0 2\n",
      " 2 2 1 0 1 2 2 2 1 2 0 2 0 0 2 2 0 0 1 2 0 0 2 2 2 2 0 0 1 0 0 2 2 0 2 1 2\n",
      " 2 2 1 0 0 1 1 0 0 1 2 1 2 2 2 1 0 0 0 0 2 0 0 0 2 2 2 2 0 2 0 2 0 0 0 2 1\n",
      " 2 0 2 2 2 2 1 0 0 0 0 0 0 2 0 0 0 0 2 1 2 2 0 2 0 2 2 2 2 2 2 2 2 0 2 0 0\n",
      " 2 0 0 2 2 2 0 2 0 0 0 2 2 0 0 2 1 2 0 2 2 2 1 2 2 2 2 0 0 2 2 1 2 0 0 2 0\n",
      " 2 0 0 0 1 0 2 0 0 2 0 0 2 0 0 2 2 2 2 1 0 2 2 1 1 0 1 2 0 0 0 1 2 1 2 2 2\n",
      " 0 2 2 2 2 2 1 0 2 2 1 2 0 2 0 0 2 2 2 2 0 1 2 0 2 2 0 0 2 0 2 0 2 2 0 1 0\n",
      " 1 0 2 1 2 2 2 2 1 0 2 2 2 0 2 2 2 2 1 2 0 0 0 0 2 2 0 0 0 2 0 0 0 0 1 2 0\n",
      " 0 2 2 2 0 2 0 0 0 0 0 0 0 0 2 2 2 1 1 2 2 1 2 0 1 0 2 0 2 0 2 0 2 2 2 0 2\n",
      " 1 2 0 0 0 0 2 2 0 0 0 0 0 0 2 0 0 0 0 0 0 0 2 0 0 2 0 0 0 0 2 2 0 2 0 0 2\n",
      " 0 2 2 0 2 2 2 2 0 2 0 2 2 2 0 2 2 2 2 0 0 0 1 2 2 2 2 0 2 0 0 2 2 0 1 0 2\n",
      " 1 0 2 2 2 0 0 0 0 2 2 2 0 0 0 0 0 0 2]\n"
     ]
    }
   ],
   "source": [
    "print(labels)"
   ]
  },
  {
   "cell_type": "markdown",
   "id": "5368b520-382e-4326-bb8f-1f95db7f3c69",
   "metadata": {},
   "source": [
    "# EVALUASI K-MEANS DENGAN CROSS TAB"
   ]
  },
  {
   "cell_type": "code",
   "execution_count": 86,
   "id": "edfc11b6-71d0-42e1-94bc-659027cfa432",
   "metadata": {},
   "outputs": [
    {
     "name": "stdout",
     "output_type": "stream",
     "text": [
      "Position  0   1   2   3   4   5   6   7   8   9   ...  14  15  16  17  18  19  \\\n",
      "labels                                            ...                           \n",
      "0          7   3   2   8   5  11  14  16  21  32  ...   0   0   0   0   0   0   \n",
      "1          0   0   0   0   0   0   0   0   0   0  ...   4  15   9  10   7   2   \n",
      "2          0   0   0   0   0   0   0   0   0   0  ...  28  46  45  19  15   3   \n",
      "\n",
      "Position  20  21  22  24  \n",
      "labels                    \n",
      "0          0   0   0   0  \n",
      "1          4   1   2   1  \n",
      "2          9   0   1   0  \n",
      "\n",
      "[3 rows x 24 columns]\n"
     ]
    }
   ],
   "source": [
    "# Buat dataframe dengan label dan Matches sebagai kolom\n",
    "dfKmeans = pd.DataFrame({'labels': labels, 'Position': dp.Matches})\n",
    "ct = pd.crosstab(dfKmeans[\"labels\"],dfKmeans['Position'])\n",
    "print(ct)"
   ]
  },
  {
   "cell_type": "markdown",
   "id": "d7fa853e-847b-49b1-9e9a-dd33eeec5c2e",
   "metadata": {},
   "source": [
    "# Visualisasi"
   ]
  },
  {
   "cell_type": "code",
   "execution_count": 96,
   "id": "a1c6be6b-b316-41da-8cfc-5e2f038e447f",
   "metadata": {},
   "outputs": [
    {
     "data": {
      "image/png": "[encoded data removed]",
      "text/plain": [
       "<Figure size 1000x1000 with 1 Axes>"
      ]
     },
     "metadata": {},
     "output_type": "display_data"
    }
   ],
   "source": [
    "plt.figure(figsize=(10,10))\n",
    "plt.suptitle(\"Cross Tab\")\n",
    "\n",
    "plt.subplot(1,1,1)\n",
    "plt.title(\"KMeans\")\n",
    "sns.heatmap(ct, annot=True, cbar=False, cmap=\"Reds\")\n",
    "\n",
    "plt.show()"
   ]
  },
  {
   "cell_type": "markdown",
   "id": "15ef3241-6b60-4125-9e1e-77f1e1543ade",
   "metadata": {
    "tags": []
   },
   "source": [
    "# Visualisasi Modal K-Means"
   ]
  },
  {
   "cell_type": "markdown",
   "id": "f9765ca7-50bc-421d-91c0-a6959dcbb673",
   "metadata": {
    "tags": []
   },
   "source": [
    "## Centroid"
   ]
  },
  {
   "cell_type": "code",
   "execution_count": 87,
   "id": "93ce2408-d5f1-46c2-b230-0dd70b0f3226",
   "metadata": {},
   "outputs": [],
   "source": [
    "import matplotlib.pyplot as plt"
   ]
  },
  {
   "cell_type": "code",
   "execution_count": 88,
   "id": "9f3499f3-c85a-4115-a7f3-f2a78af63418",
   "metadata": {},
   "outputs": [],
   "source": [
    "plt.style.use('ggplot')"
   ]
  },
  {
   "cell_type": "code",
   "execution_count": 89,
   "id": "dba66169-288f-4b8c-8448-a62370525a7c",
   "metadata": {},
   "outputs": [],
   "source": [
    "xs = x_scaled[:, 0]\n",
    "ys = x_scaled[:, 1]"
   ]
  },
  {
   "cell_type": "code",
   "execution_count": 90,
   "id": "5050ead8-c40d-4c6d-b63e-7ecae5f944d8",
   "metadata": {},
   "outputs": [],
   "source": [
    "centroids = model_kmeans.cluster_centers_"
   ]
  },
  {
   "cell_type": "code",
   "execution_count": 91,
   "id": "4cb6c504-6768-4402-aee3-34c9aec4cd8f",
   "metadata": {},
   "outputs": [],
   "source": [
    "centroids_x = centroids[:, 0]\n",
    "centroids_y = centroids[:, 1]"
   ]
  },
  {
   "cell_type": "code",
   "execution_count": 92,
   "id": "bee4a634-dce5-46f2-bc2f-7763f8c0b7e3",
   "metadata": {},
   "outputs": [
    {
     "data": {
      "image/png": "[encoded data removed]",
      "text/plain": [
       "<Figure size 500x500 with 1 Axes>"
      ]
     },
     "metadata": {},
     "output_type": "display_data"
    }
   ],
   "source": [
    "plt.figure(figsize=(5,5))\n",
    "plt.scatter(xs, ys, alpha=0.5, c = labels) # untuk titik data x dan y tiap cluster\n",
    "plt.scatter(centroids_x, centroids_y, label = 'Centroid', marker='D', s=50) #titik titik centroid marker untuk bentuk yang berbeda\n",
    "plt.xlabel('Matches') #beri label \n",
    "plt.ylabel('Goals')\n",
    "plt.legend()\n",
    "plt.show()"
   ]
  },
  {
   "cell_type": "markdown",
   "id": "dd25a673-e616-4d12-8a0b-67e56193b920",
   "metadata": {},
   "source": [
    "# Menentukan Jumlah Cluster (Elbow Method)"
   ]
  },
  {
   "cell_type": "code",
   "execution_count": 94,
   "id": "d30c22e1-e234-4248-bf23-588638478147",
   "metadata": {},
   "outputs": [
    {
     "data": {
      "image/png": "[encoded data removed]",
      "text/plain": [
       "<Figure size 500x500 with 1 Axes>"
      ]
     },
     "metadata": {},
     "output_type": "display_data"
    }
   ],
   "source": [
    "ks = range(1, 10)\n",
    "inertias = []\n",
    "\n",
    "for k in ks:\n",
    "    model = KMeans(n_clusters=k)\n",
    "    model.fit(x_scaled)\n",
    "    inertias.append(model.inertia_)\n",
    "    \n",
    "plt.figure(figsize=(5,5))\n",
    "plt.plot(ks, inertias, '-o')\n",
    "plt.xlabel('Jumlah Cluster, k')\n",
    "plt.ylabel('inertia')\n",
    "plt.xticks(ks)\n",
    "plt.show()"
   ]
  }
 ],
 "metadata": {
  "kernelspec": {
   "display_name": "Python 3 (ipykernel)",
   "language": "python",
   "name": "python3"
  },
  "language_info": {
   "codemirror_mode": {
    "name": "ipython",
    "version": 3
   },
   "file_extension": ".py",
   "mimetype": "text/x-python",
   "name": "python",
   "nbconvert_exporter": "python",
   "pygments_lexer": "ipython3",
   "version": "3.10.7"
  }
 },
 "nbformat": 4,
 "nbformat_minor": 5
}
